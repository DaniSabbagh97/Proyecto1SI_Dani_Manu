{
 "metadata": {
  "language_info": {
   "codemirror_mode": {
    "name": "ipython",
    "version": 3
   },
   "file_extension": ".py",
   "mimetype": "text/x-python",
   "name": "python",
   "nbconvert_exporter": "python",
   "pygments_lexer": "ipython3",
   "version": "3.8.1"
  },
  "orig_nbformat": 2,
  "kernelspec": {
   "name": "python38164bit81020f362ab34473af0f493d4c7ef559",
   "display_name": "Python 3.8.1 64-bit"
  },
  "metadata": {
   "interpreter": {
    "hash": "7b5eb37c91311a62a92997aad9d34534c149b9fb3f90727991851b2891fca491"
   }
  }
 },
 "nbformat": 4,
 "nbformat_minor": 2,
 "cells": [
  {
   "cell_type": "code",
   "execution_count": 17,
   "metadata": {},
   "outputs": [],
   "source": [
    "import moviepy.editor as mp\n",
    "\n",
    "miVideo = mp.VideoFileClip(\"brr.mp4\")"
   ]
  },
  {
   "cell_type": "code",
   "execution_count": 18,
   "metadata": {},
   "outputs": [
    {
     "output_type": "execute_result",
     "data": {
      "text/plain": [
       "<moviepy.video.io.VideoFileClip.VideoFileClip at 0x28a9b0b9460>"
      ]
     },
     "metadata": {},
     "execution_count": 18
    }
   ],
   "source": [
    "miVideo"
   ]
  },
  {
   "cell_type": "code",
   "execution_count": 19,
   "metadata": {},
   "outputs": [
    {
     "output_type": "stream",
     "name": "stderr",
     "text": [
      "chunk:   9%|▉         | 25/278 [00:00<00:01, 248.07it/s, now=None]MoviePy - Writing audio in prueba2.wav\n",
      "                                                                   MoviePy - Done.\n"
     ]
    }
   ],
   "source": [
    "miVideo.audio.write_audiofile(\"resultado.wav\")"
   ]
  },
  {
   "cell_type": "code",
   "execution_count": 25,
   "metadata": {},
   "outputs": [
    {
     "output_type": "stream",
     "name": "stdout",
     "text": [
      "Transcripcion hola buenas a todos soy Manuel Salvador estudiante la Universidad Europea de Madrid estoy con Daniel Dani salvaje en un Ikea en un proyecto que en el que vamos a intentar pasar este vídeo sacar el audio del mismo y poder pasarla textos y mira lo que hace Google Google Google Maps en con sus con sus propios aplicaciones y vamos a intentar que funcione esto es una pequeña prueba de unos 30 segundos a ver qué tal\n"
     ]
    }
   ],
   "source": [
    "# importing libraries \n",
    "import speech_recognition as sr \n",
    "import os \n",
    "from pydub import AudioSegment\n",
    "from pydub.silence import split_on_silence\n",
    "import time\n",
    "\n",
    "# create a speech recognition object\n",
    "r = sr.Recognizer()\n",
    "with sr.WavFile(\"resultado.wav\") as source:              # use \"test.wav\" as the audio source\n",
    "    audio = r.record(source)  \n",
    "try:\n",
    "    texto = r.recognize_google(audio, language='es-ES')  # recognize speech using Google Speech Recognition\n",
    "    time.sleep(1.5)\n",
    "    print(\"Transcripcion \" + texto)\n",
    "\n",
    "except LookupError:                                 # speech is unintelligible\n",
    "    print(\"Could not understand audio\")"
   ]
  },
  {
   "cell_type": "code",
   "execution_count": null,
   "metadata": {},
   "outputs": [],
   "source": []
  }
 ]
}